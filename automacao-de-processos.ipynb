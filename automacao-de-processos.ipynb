{
 "cells": [
  {
   "cell_type": "markdown",
   "id": "5ad63ef9",
   "metadata": {},
   "source": [
    "# Organizando os objetivos\n",
    "\n",
    "- Buscar dados automatizados dos valores\n",
    "- Criar as análises solicitadas\n",
    "- Enviar um email com os resultados das análises\n"
   ]
  },
  {
   "cell_type": "code",
   "execution_count": 4,
   "id": "a65613dd",
   "metadata": {},
   "outputs": [
    {
     "name": "stdout",
     "output_type": "stream",
     "text": [
      "Requirement already satisfied: yfinance in c:\\users\\mayra\\miniconda3\\envs\\my-conda-env\\lib\\site-packages (0.2.12)\n",
      "Requirement already satisfied: appdirs>=1.4.4 in c:\\users\\mayra\\miniconda3\\envs\\my-conda-env\\lib\\site-packages (from yfinance) (1.4.4)\n",
      "Requirement already satisfied: html5lib>=1.1 in c:\\users\\mayra\\miniconda3\\envs\\my-conda-env\\lib\\site-packages (from yfinance) (1.1)\n",
      "Requirement already satisfied: beautifulsoup4>=4.11.1 in c:\\users\\mayra\\miniconda3\\envs\\my-conda-env\\lib\\site-packages (from yfinance) (4.11.1)\n",
      "Requirement already satisfied: pytz>=2022.5 in c:\\users\\mayra\\miniconda3\\envs\\my-conda-env\\lib\\site-packages (from yfinance) (2022.7)\n",
      "Requirement already satisfied: cryptography>=3.3.2 in c:\\users\\mayra\\miniconda3\\envs\\my-conda-env\\lib\\site-packages (from yfinance) (39.0.1)\n",
      "Requirement already satisfied: frozendict>=2.3.4 in c:\\users\\mayra\\miniconda3\\envs\\my-conda-env\\lib\\site-packages (from yfinance) (2.3.5)\n",
      "Requirement already satisfied: requests>=2.26 in c:\\users\\mayra\\miniconda3\\envs\\my-conda-env\\lib\\site-packages (from yfinance) (2.28.1)\n",
      "Requirement already satisfied: pandas>=1.3.0 in c:\\users\\mayra\\miniconda3\\envs\\my-conda-env\\lib\\site-packages (from yfinance) (1.5.3)\n",
      "Requirement already satisfied: numpy>=1.16.5 in c:\\users\\mayra\\miniconda3\\envs\\my-conda-env\\lib\\site-packages (from yfinance) (1.24.2)\n",
      "Requirement already satisfied: multitasking>=0.0.7 in c:\\users\\mayra\\miniconda3\\envs\\my-conda-env\\lib\\site-packages (from yfinance) (0.0.11)\n",
      "Requirement already satisfied: lxml>=4.9.1 in c:\\users\\mayra\\miniconda3\\envs\\my-conda-env\\lib\\site-packages (from yfinance) (4.9.1)\n",
      "Requirement already satisfied: soupsieve>1.2 in c:\\users\\mayra\\miniconda3\\envs\\my-conda-env\\lib\\site-packages (from beautifulsoup4>=4.11.1->yfinance) (2.3.2.post1)\n",
      "Requirement already satisfied: cffi>=1.12 in c:\\users\\mayra\\miniconda3\\envs\\my-conda-env\\lib\\site-packages (from cryptography>=3.3.2->yfinance) (1.15.1)\n",
      "Requirement already satisfied: six>=1.9 in c:\\users\\mayra\\miniconda3\\envs\\my-conda-env\\lib\\site-packages (from html5lib>=1.1->yfinance) (1.16.0)\n",
      "Requirement already satisfied: webencodings in c:\\users\\mayra\\miniconda3\\envs\\my-conda-env\\lib\\site-packages (from html5lib>=1.1->yfinance) (0.5.1)\n",
      "Requirement already satisfied: python-dateutil>=2.8.1 in c:\\users\\mayra\\miniconda3\\envs\\my-conda-env\\lib\\site-packages (from pandas>=1.3.0->yfinance) (2.8.2)\n",
      "Requirement already satisfied: urllib3<1.27,>=1.21.1 in c:\\users\\mayra\\miniconda3\\envs\\my-conda-env\\lib\\site-packages (from requests>=2.26->yfinance) (1.26.14)\n",
      "Requirement already satisfied: charset-normalizer<3,>=2 in c:\\users\\mayra\\miniconda3\\envs\\my-conda-env\\lib\\site-packages (from requests>=2.26->yfinance) (2.0.4)\n",
      "Requirement already satisfied: certifi>=2017.4.17 in c:\\users\\mayra\\miniconda3\\envs\\my-conda-env\\lib\\site-packages (from requests>=2.26->yfinance) (2022.12.7)\n",
      "Requirement already satisfied: idna<4,>=2.5 in c:\\users\\mayra\\miniconda3\\envs\\my-conda-env\\lib\\site-packages (from requests>=2.26->yfinance) (3.4)\n",
      "Requirement already satisfied: pycparser in c:\\users\\mayra\\miniconda3\\envs\\my-conda-env\\lib\\site-packages (from cffi>=1.12->cryptography>=3.3.2->yfinance) (2.21)\n"
     ]
    }
   ],
   "source": [
    "!pip install yfinance"
   ]
  },
  {
   "cell_type": "code",
   "execution_count": 5,
   "id": "831cd262",
   "metadata": {},
   "outputs": [
    {
     "name": "stdout",
     "output_type": "stream",
     "text": [
      "Requirement already satisfied: pyautogui in c:\\users\\mayra\\miniconda3\\envs\\my-conda-env\\lib\\site-packages (0.9.53)\n",
      "Requirement already satisfied: pygetwindow>=0.0.5 in c:\\users\\mayra\\miniconda3\\envs\\my-conda-env\\lib\\site-packages (from pyautogui) (0.0.9)\n",
      "Requirement already satisfied: PyTweening>=1.0.1 in c:\\users\\mayra\\miniconda3\\envs\\my-conda-env\\lib\\site-packages (from pyautogui) (1.0.4)\n",
      "Requirement already satisfied: pymsgbox in c:\\users\\mayra\\miniconda3\\envs\\my-conda-env\\lib\\site-packages (from pyautogui) (1.0.9)\n",
      "Requirement already satisfied: pyscreeze>=0.1.21 in c:\\users\\mayra\\miniconda3\\envs\\my-conda-env\\lib\\site-packages (from pyautogui) (0.1.28)\n",
      "Requirement already satisfied: mouseinfo in c:\\users\\mayra\\miniconda3\\envs\\my-conda-env\\lib\\site-packages (from pyautogui) (0.1.3)\n",
      "Requirement already satisfied: pyrect in c:\\users\\mayra\\miniconda3\\envs\\my-conda-env\\lib\\site-packages (from pygetwindow>=0.0.5->pyautogui) (0.2.0)\n",
      "Requirement already satisfied: pyperclip in c:\\users\\mayra\\miniconda3\\envs\\my-conda-env\\lib\\site-packages (from mouseinfo->pyautogui) (1.8.2)\n"
     ]
    }
   ],
   "source": [
    "!pip install pyautogui"
   ]
  },
  {
   "cell_type": "markdown",
   "id": "c6e197ab",
   "metadata": {},
   "source": [
    "# Passo 1"
   ]
  },
  {
   "cell_type": "code",
   "execution_count": 10,
   "id": "9cc378fc",
   "metadata": {},
   "outputs": [],
   "source": [
    "import yfinance"
   ]
  },
  {
   "cell_type": "code",
   "execution_count": 21,
   "id": "644b6430",
   "metadata": {},
   "outputs": [
    {
     "data": {
      "text/plain": [
       "Date\n",
       "2022-09-12 00:00:00-03:00    27.543354\n",
       "2022-09-13 00:00:00-03:00    26.817148\n",
       "2022-09-14 00:00:00-03:00    27.228374\n",
       "2022-09-15 00:00:00-03:00    27.175877\n",
       "2022-09-16 00:00:00-03:00    26.930891\n",
       "                               ...    \n",
       "2023-03-06 00:00:00-03:00    25.959999\n",
       "2023-03-07 00:00:00-03:00    25.100000\n",
       "2023-03-08 00:00:00-03:00    25.420000\n",
       "2023-03-09 00:00:00-03:00    25.309999\n",
       "2023-03-10 00:00:00-03:00    25.049999\n",
       "Name: Close, Length: 124, dtype: float64"
      ]
     },
     "execution_count": 21,
     "metadata": {},
     "output_type": "execute_result"
    }
   ],
   "source": [
    "dados = yfinance.Ticker(\"PETR4.SA\").history(\"6mo\")\n",
    "fechamento = dados.Close\n",
    "fechamento"
   ]
  },
  {
   "cell_type": "markdown",
   "id": "72b74838",
   "metadata": {},
   "source": [
    "#  Passo 2\n",
    "\n",
    "- Cotação máxima\n",
    "- Cotação Mínima\n",
    "- Cotação do dia"
   ]
  },
  {
   "cell_type": "code",
   "execution_count": 22,
   "id": "1940e2ba",
   "metadata": {},
   "outputs": [
    {
     "data": {
      "text/plain": [
       "33.003028869628906"
      ]
     },
     "execution_count": 22,
     "metadata": {},
     "output_type": "execute_result"
    }
   ],
   "source": [
    "fechamento.max()"
   ]
  },
  {
   "cell_type": "code",
   "execution_count": 23,
   "id": "4e468b86",
   "metadata": {},
   "outputs": [
    {
     "data": {
      "text/plain": [
       "21.469999313354492"
      ]
     },
     "execution_count": 23,
     "metadata": {},
     "output_type": "execute_result"
    }
   ],
   "source": [
    "fechamento.min()"
   ]
  },
  {
   "cell_type": "code",
   "execution_count": 26,
   "id": "a2d660aa",
   "metadata": {},
   "outputs": [
    {
     "data": {
      "text/plain": [
       "25.049999237060547"
      ]
     },
     "execution_count": 26,
     "metadata": {},
     "output_type": "execute_result"
    }
   ],
   "source": [
    "fechamento[-1]"
   ]
  },
  {
   "cell_type": "code",
   "execution_count": 34,
   "id": "854c5ed9",
   "metadata": {},
   "outputs": [],
   "source": [
    "maxima = fechamento.max()\n",
    "minima = fechamento.min()\n",
    "atual = fechamento [-1]"
   ]
  },
  {
   "cell_type": "code",
   "execution_count": 36,
   "id": "c2e74995",
   "metadata": {
    "scrolled": true
   },
   "outputs": [
    {
     "name": "stdout",
     "output_type": "stream",
     "text": [
      "33.003028869628906\n"
     ]
    }
   ],
   "source": [
    "print (maxima)"
   ]
  },
  {
   "cell_type": "markdown",
   "id": "b017e937",
   "metadata": {},
   "source": [
    "# Passo 3\n",
    "\n",
    "- Abrir uma nova aba e digitar o gmail\n",
    "- clicar no botão escrever \n",
    "- preencher o destinatario\n",
    "- preencher o assunto \n",
    "- escrever o corpo do email\n",
    "- clicar em enviar"
   ]
  },
  {
   "cell_type": "code",
   "execution_count": 37,
   "id": "2d264480",
   "metadata": {},
   "outputs": [
    {
     "name": "stdout",
     "output_type": "stream",
     "text": [
      "Requirement already satisfied: pyperclip in c:\\users\\mayra\\miniconda3\\envs\\my-conda-env\\lib\\site-packages (1.8.2)\n"
     ]
    }
   ],
   "source": [
    "!pip install pyperclip"
   ]
  },
  {
   "cell_type": "code",
   "execution_count": 39,
   "id": "46cb9d5c",
   "metadata": {},
   "outputs": [],
   "source": [
    "import pyautogui\n",
    "import pyperclip"
   ]
  },
  {
   "cell_type": "code",
   "execution_count": 85,
   "id": "5ff973b3",
   "metadata": {},
   "outputs": [],
   "source": [
    "pyautogui.PAUSE = 9\n",
    "\n",
    "pyautogui.hotkey(\"ctrl\",\"t\")\n",
    "pyperclip.copy(\"www.gmail.com\")\n",
    "pyautogui.hotkey(\"ctrl\",\"v\")\n",
    "pyautogui.hotkey(\"enter\")\n",
    "pyautogui.click(x=56, y=167)\n",
    "\n",
    "pyperclip.copy(\"mouramayra01@gmail.com\")\n",
    "pyautogui.hotkey(\"ctrl\",\"v\")\n",
    "pyautogui.hotkey(\"enter\")\n",
    "\n",
    "pyautogui.hotkey(\"tab\")\n",
    "\n",
    "pyperclip.copy(\"Análises Diárias\")\n",
    "pyautogui.hotkey(\"ctrl\",\"v\")\n",
    "pyautogui.hotkey(\"tab\")\n",
    "\n",
    "mensagem = f\"\"\"\n",
    "Caro Gestor,\n",
    "Seguem as análises solicitadas:\n",
    "Cotação máxima: R$ {round (maxima), 2}\n",
    "Cotação mínima: R$ {round (minima), 2}\n",
    "Cotação atual: R$ {round (atual), 2}\n",
    "\"\"\"\n",
    "\n",
    "pyperclip.copy(mensagem)\n",
    "pyautogui.hotkey(\"ctrl\",\"v\")\n",
    "\n",
    "pyautogui.click(x=833,y=692)\n",
    "\n"
   ]
  },
  {
   "cell_type": "code",
   "execution_count": 84,
   "id": "f54c3797",
   "metadata": {},
   "outputs": [
    {
     "data": {
      "text/plain": [
       "Point(x=56, y=167)"
      ]
     },
     "execution_count": 84,
     "metadata": {},
     "output_type": "execute_result"
    }
   ],
   "source": [
    "import time\n",
    "\n",
    "time.sleep(7)\n",
    "\n",
    "pyautogui.position()"
   ]
  },
  {
   "cell_type": "code",
   "execution_count": null,
   "id": "94b55cb8",
   "metadata": {},
   "outputs": [],
   "source": []
  },
  {
   "cell_type": "code",
   "execution_count": null,
   "id": "e86e43d5",
   "metadata": {},
   "outputs": [],
   "source": []
  }
 ],
 "metadata": {
  "kernelspec": {
   "display_name": "Python 3 (ipykernel)",
   "language": "python",
   "name": "python3"
  },
  "language_info": {
   "codemirror_mode": {
    "name": "ipython",
    "version": 3
   },
   "file_extension": ".py",
   "mimetype": "text/x-python",
   "name": "python",
   "nbconvert_exporter": "python",
   "pygments_lexer": "ipython3",
   "version": "3.10.9"
  }
 },
 "nbformat": 4,
 "nbformat_minor": 5
}
